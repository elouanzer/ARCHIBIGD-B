{
 "cells": [
  {
   "cell_type": "markdown",
   "metadata": {},
   "source": [
    "# Exemple de visualisation"
   ]
  },
  {
   "cell_type": "code",
   "execution_count": 1,
   "metadata": {},
   "outputs": [
    {
     "ename": "DependencyException",
     "evalue": "Unable to load a default connection class\nThe following exceptions were observed: \n - The C extension needed to use libev was not found.  This probably means that you didn't have the required build dependencies when installing the driver.  See http://datastax.github.io/python-driver/installation.html#c-extensions for instructions on installing build dependencies and building the C extension.\n - Unable to import asyncore module.  Note that this module has been removed in Python 3.12 so when using the driver with this version (or anything newer) you will need to use one of the other event loop implementations.",
     "output_type": "error",
     "traceback": [
      "\u001b[1;31m---------------------------------------------------------------------------\u001b[0m",
      "\u001b[1;31mDependencyException\u001b[0m                       Traceback (most recent call last)",
      "Cell \u001b[1;32mIn[1], line 1\u001b[0m\n\u001b[1;32m----> 1\u001b[0m \u001b[38;5;28;01mfrom\u001b[39;00m \u001b[38;5;21;01mcassandra\u001b[39;00m\u001b[38;5;21;01m.\u001b[39;00m\u001b[38;5;21;01mcluster\u001b[39;00m \u001b[38;5;28;01mimport\u001b[39;00m Cluster\n\u001b[0;32m      2\u001b[0m \u001b[38;5;28;01mimport\u001b[39;00m \u001b[38;5;21;01mpandas\u001b[39;00m \u001b[38;5;28;01mas\u001b[39;00m \u001b[38;5;21;01mpd\u001b[39;00m\n\u001b[0;32m      3\u001b[0m \u001b[38;5;28;01mimport\u001b[39;00m \u001b[38;5;21;01mmatplotlib\u001b[39;00m\u001b[38;5;21;01m.\u001b[39;00m\u001b[38;5;21;01mpyplot\u001b[39;00m \u001b[38;5;28;01mas\u001b[39;00m \u001b[38;5;21;01mplt\u001b[39;00m\n",
      "File \u001b[1;32mc:\\Users\\eloua\\AppData\\Local\\Programs\\Python\\Python313\\Lib\\site-packages\\cassandra\\cluster.py:173\u001b[0m\n\u001b[0;32m    171\u001b[0m (conn_class, excs) \u001b[38;5;241m=\u001b[39m reduce(_connection_reduce_fn, conn_fns, (\u001b[38;5;28;01mNone\u001b[39;00m,[]))\n\u001b[0;32m    172\u001b[0m \u001b[38;5;28;01mif\u001b[39;00m \u001b[38;5;129;01mnot\u001b[39;00m conn_class:\n\u001b[1;32m--> 173\u001b[0m     \u001b[38;5;28;01mraise\u001b[39;00m DependencyException(\u001b[38;5;124m\"\u001b[39m\u001b[38;5;124mUnable to load a default connection class\u001b[39m\u001b[38;5;124m\"\u001b[39m, excs)\n\u001b[0;32m    174\u001b[0m DefaultConnection \u001b[38;5;241m=\u001b[39m conn_class\n\u001b[0;32m    176\u001b[0m \u001b[38;5;66;03m# Forces load of utf8 encoding module to avoid deadlock that occurs\u001b[39;00m\n\u001b[0;32m    177\u001b[0m \u001b[38;5;66;03m# if code that is being imported tries to import the module in a seperate\u001b[39;00m\n\u001b[0;32m    178\u001b[0m \u001b[38;5;66;03m# thread.\u001b[39;00m\n\u001b[0;32m    179\u001b[0m \u001b[38;5;66;03m# See http://bugs.python.org/issue10923\u001b[39;00m\n",
      "\u001b[1;31mDependencyException\u001b[0m: Unable to load a default connection class\nThe following exceptions were observed: \n - The C extension needed to use libev was not found.  This probably means that you didn't have the required build dependencies when installing the driver.  See http://datastax.github.io/python-driver/installation.html#c-extensions for instructions on installing build dependencies and building the C extension.\n - Unable to import asyncore module.  Note that this module has been removed in Python 3.12 so when using the driver with this version (or anything newer) you will need to use one of the other event loop implementations."
     ]
    }
   ],
   "source": [
    "from cassandra.cluster import Cluster\n",
    "import pandas as pd\n",
    "import matplotlib.pyplot as plt"
   ]
  },
  {
   "cell_type": "markdown",
   "metadata": {},
   "source": [
    "Visualisation des données collectés en batch :"
   ]
  },
  {
   "cell_type": "code",
   "execution_count": null,
   "metadata": {},
   "outputs": [],
   "source": [
    "query = \"\"\"\n",
    "SELECT heure, moyenne_disponibilite\n",
    "FROM parking_batch_1\n",
    "WHERE jour = '27' AND grp_nom = 'Gare Nord'\n",
    "\"\"\"\n",
    "rows = session.execute(query)"
   ]
  },
  {
   "cell_type": "code",
   "execution_count": null,
   "metadata": {},
   "outputs": [],
   "source": [
    "# Conversion des données en DataFrame Pandas\n",
    "df = pd.DataFrame(rows, columns=['heure', 'moyenne_disponibilite'])\n",
    "\n",
    "# Tri des données par heure croissante\n",
    "df['heure'] = df['heure'].astype(int)  # Assure-toi que 'heure' est en entier pour le tri\n",
    "df = df.sort_values(by='heure')\n",
    "\n",
    "# Affichage du graphe\n",
    "plt.figure(figsize=(10, 5))\n",
    "plt.plot(df['heure'], df['moyenne_disponibilite'], marker='o', linestyle='-')\n",
    "plt.xlabel(\"Heure\")\n",
    "plt.ylabel(\"Moyenne Disponibilité\")\n",
    "plt.title(\"Évolution de la moyenne des disponibilités - Gare Nord (Jour 27)\")\n",
    "plt.grid()\n",
    "plt.show()\n"
   ]
  }
 ],
 "metadata": {
  "kernelspec": {
   "display_name": "Python 3",
   "language": "python",
   "name": "python3"
  },
  "language_info": {
   "codemirror_mode": {
    "name": "ipython",
    "version": 3
   },
   "file_extension": ".py",
   "mimetype": "text/x-python",
   "name": "python",
   "nbconvert_exporter": "python",
   "pygments_lexer": "ipython3",
   "version": "3.13.2"
  }
 },
 "nbformat": 4,
 "nbformat_minor": 2
}
